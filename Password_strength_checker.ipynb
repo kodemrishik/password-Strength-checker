{
  "nbformat": 4,
  "nbformat_minor": 0,
  "metadata": {
    "colab": {
      "provenance": []
    },
    "kernelspec": {
      "name": "python3",
      "display_name": "Python 3"
    },
    "language_info": {
      "name": "python"
    }
  },
  "cells": [
    {
      "cell_type": "code",
      "execution_count": 1,
      "metadata": {
        "colab": {
          "base_uri": "https://localhost:8080/"
        },
        "id": "o8-0ymo2Jtlu",
        "outputId": "c97d9232-dbc3-41d6-d3bf-0f590b8a49f6"
      },
      "outputs": [
        {
          "output_type": "stream",
          "name": "stdout",
          "text": [
            "===== Welcome to Password Strength Checker =====\n",
            "Do you want to check your password's strength (y/n): y\n",
            "Enter the password: ··········\n",
            "Your password has:\n",
            "6 lowercase letters\n",
            "1 uppercase letters\n",
            "1 digits\n",
            "0 whitespaces\n",
            "0 special characters\n",
            "Password Score: 0.6\n",
            "Remarks: Okay password, but room for improvement.\n",
            "Do you want to check another password's strength (y/n): n\n",
            "Exiting...\n"
          ]
        }
      ],
      "source": [
        "import string\n",
        "import getpass\n",
        "\n",
        "def check_password_strength():\n",
        "    password = getpass.getpass('Enter the password: ')\n",
        "    strength = 0\n",
        "    remarks = ''\n",
        "\n",
        "    categories = {\n",
        "        'lowercase': 0,\n",
        "        'uppercase': 0,\n",
        "        'digits': 0,\n",
        "        'whitespace': 0,\n",
        "        'special': 0\n",
        "    }\n",
        "\n",
        "    for char in password:\n",
        "        if char in string.ascii_lowercase:\n",
        "            categories['lowercase'] += 1\n",
        "        elif char in string.ascii_uppercase:\n",
        "            categories['uppercase'] += 1\n",
        "        elif char in string.digits:\n",
        "            categories['digits'] += 1\n",
        "        elif char == ' ':\n",
        "            categories['whitespace'] += 1\n",
        "        else:\n",
        "            categories['special'] += 1\n",
        "\n",
        "    for count in categories.values():\n",
        "        if count > 0:\n",
        "            strength += 1\n",
        "\n",
        "    if strength == 1:\n",
        "        remarks = 'Very weak password. Change it as soon as possible.'\n",
        "    elif strength == 2:\n",
        "        remarks = 'Weak password. Consider using a tougher password.'\n",
        "    elif strength == 3:\n",
        "        remarks = 'Okay password, but room for improvement.'\n",
        "    elif strength == 4:\n",
        "        remarks = 'Hard to guess, but can be made more secure.'\n",
        "    elif strength == 5:\n",
        "        remarks = 'Very strong password! Hackers will struggle to guess it.'\n",
        "\n",
        "    print(f'Your password has:')\n",
        "    print(f'{categories[\"lowercase\"]} lowercase letters')\n",
        "    print(f'{categories[\"uppercase\"]} uppercase letters')\n",
        "    print(f'{categories[\"digits\"]} digits')\n",
        "    print(f'{categories[\"whitespace\"]} whitespaces')\n",
        "    print(f'{categories[\"special\"]} special characters')\n",
        "    print(f'Password Score: {strength / 5}')\n",
        "    print(f'Remarks: {remarks}')\n",
        "\n",
        "def check_pwd(another_pw=False):\n",
        "    if another_pw:\n",
        "        choice = input('Do you want to check another password\\'s strength (y/n): ')\n",
        "    else:\n",
        "        choice = input('Do you want to check your password\\'s strength (y/n): ')\n",
        "\n",
        "    while True:\n",
        "        if choice.lower() == 'y':\n",
        "            return True\n",
        "        elif choice.lower() == 'n':\n",
        "            print('Exiting...')\n",
        "            return False\n",
        "        else:\n",
        "            print('Invalid input...please try again.')\n",
        "\n",
        "if __name__ == '__main__':\n",
        "    print('===== Welcome to Password Strength Checker =====')\n",
        "    check_pw = check_pwd()\n",
        "    while check_pw:\n",
        "        check_password_strength()\n",
        "        check_pw = check_pwd(True)\n"
      ]
    }
  ]
}